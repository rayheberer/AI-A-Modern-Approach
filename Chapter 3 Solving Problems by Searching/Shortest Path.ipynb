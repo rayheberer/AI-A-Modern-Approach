{
 "cells": [
  {
   "cell_type": "markdown",
   "metadata": {},
   "source": [
    "### 3.7\n",
    "\n",
    "__Consider the problem of finding the shortest path between two points on a plane that has convex polygonal obstacles as shown in Figure 3.31. This is an idealization of the problem that a robot has to solve to navigate in a crowded environment.__"
   ]
  },
  {
   "cell_type": "markdown",
   "metadata": {},
   "source": [
    "![](https://raw.githubusercontent.com/rayheberer/AI-A-Modern-Approach/master/img/3/Figure-3-31.png)"
   ]
  },
  {
   "cell_type": "markdown",
   "metadata": {},
   "source": [
    "__a. Suppose the state space consists of all positions (x,y) in the plane. How many states are there? How many paths are there to the goal?__\n",
    "\n",
    "If *x* and *y* are continuous spacial variables, then there are infinite states, and infinite paths to the goal. \n",
    "\n",
    "If *x* and *y* are made to be discrete, then the number of states will be proportional to max(*x*)max(*y*), where the constant of proportionality is the number of allowable values within a distance of 1 multiplied by the fraction of the plane not taken up by the obstacles.\n",
    "\n",
    "The number of paths will scale roughly proportional to the factorial of the number of states, since in a plane with no obstacles every state would be reachable from every other state. In this case, if cycles are not permitted in paths, then if there are N states besides the goal states, then for the last step on the path, there are N possible states, for the second-to-last step, N-1 states, and so on."
   ]
  },
  {
   "cell_type": "markdown",
   "metadata": {},
   "source": [
    "__b. Explain briefly why the shortest path from one polygon vertex to any other in the scene must consist of straight-line segments joining some of the vertices of the polygons. Define a good state space now. How large is this state space?__\n",
    "\n",
    "The shortest path between one polygon vertex and another vertex on the same polygon is by definition a line, and the same goes for paths between vertices on separate polygons.\n",
    "\n",
    "If there is an obstacle between two vertices, then the shortest path will be from the first vertex, to the vertex of the obstacle, to the second vertex. For example, the path from __S__ to the lower vertex of the pentagon in Figure 3.31 first travels to the upper-left vertex of the intervening rectangle. If instead the path were to visit a point in the plane a above or to the left of the rectangle's vertex, then the four-sided polygon consisting of __S__, the goal, the point directly below the goal and to the right of __S__, and the point visited by the path will contain the polygon made similarly with the vertex of the rectangle as its fourth point. Therefore, the perimeter of the outer polygon will be greater, and since its bottom and right edges are identical to the inner one, this is because the upper-left edges are longer. Therefore, the shortest paths directly visit vertices of intervening obstacles.\n",
    "\n",
    "Taking this into account, a good state space consists of each vertex in the plane, plus the starting and goal states. In Figure 3.31, the size of the state space would be $N=35$. In general it would be $N=V + 2$, where $V$ is the number of vertices in the plane."
   ]
  },
  {
   "cell_type": "markdown",
   "metadata": {},
   "source": [
    "__c. Define the necessary functions to implement the search problem, including an `ACTIONS` function that takes a vertex as input and returns a set of vectors, each of which maps the current vertex to one of the vertices that can be reached in a straight line. (Do not forget the neighbors on the same polygon.) Use the straight-line distance for the heuristic function.__"
   ]
  },
  {
   "cell_type": "code",
   "execution_count": 41,
   "metadata": {},
   "outputs": [],
   "source": [
    "import matplotlib.pyplot as plt\n",
    "\n",
    "class Vertex(object):\n",
    "    def __init__(self, x, y, name):\n",
    "        self.location = (x, y)\n",
    "        self.name = name\n",
    "        self.reachable = {}\n",
    "        self.edges = []\n",
    "        \n",
    "class StateSpace(object):\n",
    "    def __init__(self):\n",
    "        self.vertices = {}\n",
    "        self.edges = []\n",
    "        self.start = None\n",
    "        self.goal = None\n",
    "        \n",
    "    def add_vertex(self, x, y, name):\n",
    "        \"\"\"Add a vertex to the list of vertices in the state.\"\"\"\n",
    "        self.vertices[name] = Vertex(x, y, name)\n",
    "        \n",
    "    def set_start(self, x, y, name='S'):\n",
    "        start = Vertex(x, y, name)\n",
    "        self.vertices[name] = start\n",
    "        self.start = start\n",
    "        \n",
    "    def set_goal(self, x, y, name='G'):\n",
    "        goal = Vertex(x, y, name)\n",
    "        self.vertices[name] = goal\n",
    "        self.goal = goal\n",
    "        \n",
    "    def add_edge(self, a, b):\n",
    "        \"\"\"Add a polygon edge linking two vertices.\"\"\"\n",
    "        assert a in self.vertices and b in self.vertices\n",
    "        \n",
    "        self.vertices[a].edges.append(b)\n",
    "        self.vertices[b].edges.append(a)\n",
    "        \n",
    "        self.edges.append(([self.vertices[a].location[0], \n",
    "                            self.vertices[b].location[0]], \n",
    "                           [self.vertices[a].location[1], \n",
    "                            self.vertices[b].location[1]]))\n",
    "        \n",
    "        # reachable by default\n",
    "        self.assert_reachable(a, b)\n",
    "        \n",
    "    def connect_polygon(self, v_names):\n",
    "        for i in range(len(v_names) - 1):\n",
    "            self.add_edge(v_names[i], v_names[i+1])\n",
    "        self.add_edge(v_names[0], v_names[-1])\n",
    "        \n",
    "    def assert_reachable(self, a, b):\n",
    "        \"\"\"Assert that two vertices are reachable from each other.\"\"\"\n",
    "        assert a in self.vertices and b in self.vertices\n",
    "        \n",
    "        delta_x = self.vertices[b].location[0] - self.vertices[a].location[0]\n",
    "        delta_y = self.vertices[b].location[1] - self.vertices[a].location[1]\n",
    "        \n",
    "        self.vertices[a].reachable[(delta_x, delta_y)] = b\n",
    "        self.vertices[b].reachable[(-delta_x, -delta_y)] = a\n",
    "        \n",
    "    def draw(self):\n",
    "        fig, ax = plt.subplots()\n",
    "        for edge in self.edges:\n",
    "            ax.plot([*edge[0]], [*edge[1]], color='black')\n",
    "            \n",
    "        if self.start:\n",
    "            ax.plot(*self.start.location, 'bo')\n",
    "        if self.goal:\n",
    "            ax.plot(*self.goal.location, 'go')\n",
    "    \n",
    "class SearchAgent(object):\n",
    "    def __init__(self, initial_vertex):\n",
    "        self.location = initial_vertex\n",
    "        \n",
    "    def move(vector):\n",
    "        assert vector in self.location.reachable, \"Not a valid move.\"\n",
    "\n",
    "        self.location = self.location.reachable[vector]\n",
    "    \n",
    "def ACTIONS(vertex):\n",
    "    return vertex.reachable.keys()"
   ]
  },
  {
   "cell_type": "code",
   "execution_count": 45,
   "metadata": {},
   "outputs": [],
   "source": [
    "env = StateSpace()\n",
    "\n",
    "# start\n",
    "env.set_start(0, 0.7)\n",
    "\n",
    "# rectangle\n",
    "env.add_vertex(0.5, 0, 'rec1')\n",
    "env.add_vertex(0.5, 1.4, 'rec2')\n",
    "env.add_vertex(4.6, 1.4, 'rec3')\n",
    "env.add_vertex(4.6, 0, 'rec4')\n",
    "\n",
    "env.connect_polygon(['rec1', 'rec2', 'rec3', 'rec4'])\n",
    "\n",
    "# pentagon\n",
    "env.add_vertex(0, 3.8, 'pent1')\n",
    "env.add_vertex(0.3, 2.3, 'pent2')\n",
    "env.add_vertex(1.7, 2, 'pent3')\n",
    "env.add_vertex(2.6, 3.7, 'pent4')\n",
    "env.add_vertex(1.5, 5.1, 'pent5')\n",
    "\n",
    "env.connect_polygon(['pent1', 'pent2', 'pent3', 'pent4', 'pent5'])\n",
    "\n",
    "# triangle\n",
    "env.add_vertex(2.5, 1.8, 'tri1')\n",
    "env.add_vertex(3.7, 1.8, 'tri2')\n",
    "env.add_vertex(3.1, 4, 'tri3')\n",
    "\n",
    "env.connect_polygon(['tri1', 'tri2', 'tri3'])\n",
    "\n",
    "# quadrilateral\n",
    "env.add_vertex(3.9, 3.3, 'quad1')\n",
    "env.add_vertex(5.7, 4.4, 'quad2')\n",
    "env.add_vertex(4.8, 5.1, 'quad3')\n",
    "env.add_vertex(3.7, 4.9, 'quad4')\n",
    "\n",
    "env.connect_polygon(['quad1', 'quad2', 'quad3', 'quad4'])\n",
    "\n",
    "# triangle 2\n",
    "\n",
    "# rectangle 2\n",
    "\n",
    "# hexagon\n",
    "\n",
    "# quadrilateral 2\n",
    "\n",
    "# goal\n",
    "env.set_goal(9.1, 5)"
   ]
  },
  {
   "cell_type": "code",
   "execution_count": 46,
   "metadata": {},
   "outputs": [
    {
     "data": {
      "image/png": "[encoded data removed]",
      "text/plain": [
       "<Figure size 432x288 with 1 Axes>"
      ]
     },
     "metadata": {},
     "output_type": "display_data"
    }
   ],
   "source": [
    "env.draw()"
   ]
  },
  {
   "cell_type": "markdown",
   "metadata": {},
   "source": [
    "__d. Apply one or more of the algorithms in this chapter to solve a range of problems in the domain, and comment on their performance.__"
   ]
  }
 ],
 "metadata": {
  "kernelspec": {
   "display_name": "Python 3",
   "language": "python",
   "name": "python3"
  },
  "language_info": {
   "codemirror_mode": {
    "name": "ipython",
    "version": 3
   },
   "file_extension": ".py",
   "mimetype": "text/x-python",
   "name": "python",
   "nbconvert_exporter": "python",
   "pygments_lexer": "ipython3",
   "version": "3.6.1"
  }
 },
 "nbformat": 4,
 "nbformat_minor": 2
}
