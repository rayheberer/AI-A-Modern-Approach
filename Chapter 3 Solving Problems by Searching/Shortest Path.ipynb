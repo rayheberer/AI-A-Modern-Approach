{
 "cells": [
  {
   "cell_type": "markdown",
   "metadata": {},
   "source": [
    "### 3.7\n",
    "\n",
    "__Consider the problem of finding the shortest path between two points on a plane that has convex polygonal obstacles as shown in Figure 3.31. This is an idealization of the problem that a robot has to solve to navigate in a crowded environment.__"
   ]
  },
  {
   "cell_type": "markdown",
   "metadata": {},
   "source": [
    "![](https://raw.githubusercontent.com/rayheberer/AI-A-Modern-Approach/master/img/3/Figure-3-31.png)"
   ]
  },
  {
   "cell_type": "markdown",
   "metadata": {},
   "source": [
    "__a. Suppose the state space consists of all positions (x,y) in the plane. How many states are there? How many paths are there to the goal?__\n",
    "\n",
    "If *x* and *y* are continuous spacial variables, then there are infinite states, and infinite paths to the goal. \n",
    "\n",
    "If *x* and *y* are made to be discrete, then the number of states will be proportional to max(*x*)max(*y*), where the constant of proportionality is the number of allowable values within a distance of 1 multiplied by the fraction of the plane not taken up by the obstacles.\n",
    "\n",
    "The number of paths will scale roughly proportional to the factorial of the number of states, since in a plane with no obstacles every state would be reachable from every other state. In this case, if cycles are not permitted in paths, then if there are N states besides the goal states, then for the last step on the path, there are N possible states, for the second-to-last step, N-1 states, and so on."
   ]
  },
  {
   "cell_type": "markdown",
   "metadata": {},
   "source": [
    "__b. Explain briefly why the shortest path from one polygon vertex to any other in the scene must consist of straight-line segments joining some of the vertices of the polygons. Define a good state space now. How large is this state space?__\n",
    "\n",
    "The shortest path between one polygon vertex and another vertex on the same polygon is by definition a line, and the same goes for paths between vertices on separate polygons.\n",
    "\n",
    "If there is an obstacle between two vertices, then the shortest path will be from the first vertex, to the vertex of the obstacle, to the second vertex. For example, the path from __S__ to the lower vertex of the pentagon in Figure 3.31 first travels to the upper-left vertex of the intervening rectangle. If instead the path were to visit a point in the plane a above or to the left of the rectangle's vertex, then the four-sided polygon consisting of __S__, the goal, the point directly below the goal and to the right of __S__, and the point visited by the path will contain the polygon made similarly with the vertex of the rectangle as its fourth point. Therefore, the perimeter of the outer polygon will be greater, and since its bottom and right edges are identical to the inner one, this is because the upper-left edges are longer. Therefore, the shortest paths directly visit vertices of intervening obstacles.\n",
    "\n",
    "Taking this into account, a good state space consists of each vertex in the plane, plus the starting and goal states. In Figure 3.31, the size of the state space would be $N=35$. In general it would be $N=V + 2$, where $V$ is the number of vertices in the plane."
   ]
  },
  {
   "cell_type": "code",
   "execution_count": 1,
   "metadata": {},
   "outputs": [],
   "source": [
    "import matplotlib.pyplot as plt\n",
    "\n",
    "class Vertex(object):\n",
    "    def __init__(self, x, y, name):\n",
    "        self.location = (x, y)\n",
    "        self.name = name\n",
    "        self.reachable = {}\n",
    "        self.edges = []\n",
    "        \n",
    "class StateSpace(object):\n",
    "    def __init__(self):\n",
    "        self.vertices = {}\n",
    "        self.edges = []\n",
    "        self.start = None\n",
    "        self.goal = None\n",
    "        \n",
    "    def add_vertex(self, x, y, name):\n",
    "        \"\"\"Add a vertex to the list of vertices in the state.\"\"\"\n",
    "        self.vertices[name] = Vertex(x, y, name)\n",
    "        \n",
    "    def set_start(self, x, y, name=\"S\"):\n",
    "        start = Vertex(x, y, name)\n",
    "        self.vertices[name] = start\n",
    "        self.start = start\n",
    "        \n",
    "    def set_goal(self, x, y, name=\"G\"):\n",
    "        goal = Vertex(x, y, name)\n",
    "        self.vertices[name] = goal\n",
    "        self.goal = goal\n",
    "        \n",
    "    def add_edge(self, a, b):\n",
    "        \"\"\"Add a polygon edge linking two vertices.\"\"\"\n",
    "        assert a in self.vertices and b in self.vertices\n",
    "        \n",
    "        self.vertices[a].edges.append(b)\n",
    "        self.vertices[b].edges.append(a)\n",
    "        \n",
    "        self.edges.append(([self.vertices[a].location[0], \n",
    "                            self.vertices[b].location[0]], \n",
    "                           [self.vertices[a].location[1], \n",
    "                            self.vertices[b].location[1]]))\n",
    "        \n",
    "        # reachable by default\n",
    "        self.assert_reachable(a, b)\n",
    "        \n",
    "    def connect_polygon(self, v_names):\n",
    "        for i in range(len(v_names) - 1):\n",
    "            self.add_edge(v_names[i], v_names[i+1])\n",
    "        self.add_edge(v_names[0], v_names[-1])\n",
    "        \n",
    "    def assert_reachable(self, a, b):\n",
    "        \"\"\"Assert that pair of vertices are reachable from each other.\"\"\"\n",
    "        assert a in self.vertices\n",
    "        \n",
    "        if type(b) != list:\n",
    "            b = [b]\n",
    "        \n",
    "        for v in b:\n",
    "            assert v in self.vertices\n",
    "            delta_x = self.vertices[v].location[0] - self.vertices[a].location[0]\n",
    "            delta_y = self.vertices[v].location[1] - self.vertices[a].location[1]\n",
    "\n",
    "            self.vertices[a].reachable[(delta_x, delta_y)] = v\n",
    "            self.vertices[v].reachable[(-delta_x, -delta_y)] = a\n",
    "        \n",
    "    def draw(self):\n",
    "        fig, ax = plt.subplots()\n",
    "        for edge in self.edges:\n",
    "            ax.plot([*edge[0]], [*edge[1]], color=\"black\")\n",
    "            \n",
    "        if self.start:\n",
    "            ax.plot(*self.start.location, \"bo\")\n",
    "        if self.goal:\n",
    "            ax.plot(*self.goal.location, \"go\")"
   ]
  },
  {
   "cell_type": "code",
   "execution_count": 2,
   "metadata": {},
   "outputs": [],
   "source": [
    "# Initialize and connect vertices on the same polygons\n",
    "# Use convention of starting at bottom or bottom-left vertex, going around clockwise\n",
    "\n",
    "env = StateSpace()\n",
    "\n",
    "# start\n",
    "env.set_start(0.0, 0.7)\n",
    "\n",
    "# rectangle\n",
    "env.add_vertex(0.5, 0.0, \"rec1\")\n",
    "env.add_vertex(0.5, 1.4, \"rec2\")\n",
    "env.add_vertex(4.6, 1.4, \"rec3\")\n",
    "env.add_vertex(4.6, 0.0, \"rec4\")\n",
    "\n",
    "env.connect_polygon([\"rec1\", \"rec2\", \"rec3\", \"rec4\"])\n",
    "\n",
    "# pentagon\n",
    "env.add_vertex(1.7, 2.0, \"pent1\")\n",
    "env.add_vertex(0.3, 2.3, \"pent2\")\n",
    "env.add_vertex(0.0, 3.8, \"pent3\")\n",
    "env.add_vertex(1.5, 5.1, \"pent4\")\n",
    "env.add_vertex(2.6, 3.7, \"pent5\")\n",
    "\n",
    "env.connect_polygon([\"pent1\", \"pent2\", \"pent3\", \"pent4\", \"pent5\"])\n",
    "\n",
    "# triangle\n",
    "env.add_vertex(2.5, 1.8, \"tri1\")\n",
    "env.add_vertex(3.1, 4.0, \"tri2\")\n",
    "env.add_vertex(3.7, 1.8, \"tri3\")\n",
    "\n",
    "env.connect_polygon([\"tri1\", \"tri2\", \"tri3\"])\n",
    "\n",
    "# quadrilateral\n",
    "env.add_vertex(3.9, 3.3, \"quad1\")\n",
    "env.add_vertex(3.7, 4.9, \"quad2\")\n",
    "env.add_vertex(4.8, 5.1, \"quad3\")\n",
    "env.add_vertex(5.7, 4.4, \"quad4\")\n",
    "\n",
    "env.connect_polygon([\"quad1\", \"quad2\", \"quad3\", \"quad4\"])\n",
    "\n",
    "# triangle 2\n",
    "env.add_vertex(5.4, 0.7, \"tri_2_1\")\n",
    "env.add_vertex(4.9, 2.6, \"tri_2_2\")\n",
    "env.add_vertex(6.3, 1.5, \"tri_2_3\")\n",
    "\n",
    "env.connect_polygon([\"tri_2_1\", \"tri_2_2\", \"tri_2_3\"])\n",
    "\n",
    "# rectangle 2\n",
    "env.add_vertex(5.8, 2.2, \"rec_2_1\")\n",
    "env.add_vertex(5.8, 5.0, \"rec_2_2\")\n",
    "env.add_vertex(7.5, 5.0, \"rec_2_3\")\n",
    "env.add_vertex(7.5, 2.2, \"rec_2_4\")\n",
    "\n",
    "env.connect_polygon([\"rec_2_1\", \"rec_2_2\", \"rec_2_3\", \"rec_2_4\"])\n",
    "\n",
    "# hexagon\n",
    "env.add_vertex(7.7, 0.0, \"hex1\")\n",
    "env.add_vertex(6.8, 0.6, \"hex2\")\n",
    "env.add_vertex(6.8, 1.5, \"hex3\")\n",
    "env.add_vertex(7.7, 2.2, \"hex4\")\n",
    "env.add_vertex(8.5, 1.5, \"hex5\")\n",
    "env.add_vertex(8.5, 0.4, \"hex6\")\n",
    "\n",
    "env.connect_polygon([\"hex1\", \"hex2\", \"hex3\", \"hex4\", \"hex5\", \"hex6\"])\n",
    "\n",
    "# quadrilateral 2\n",
    "env.add_vertex(8.7, 1.8, \"quad_2_1\")\n",
    "env.add_vertex(7.8, 4.7, \"quad_2_2\")\n",
    "env.add_vertex(8.6, 5.0, \"quad_2_3\")\n",
    "env.add_vertex(8.9, 4.5, \"quad_2_4\")\n",
    "\n",
    "env.connect_polygon([\"quad_2_1\", \"quad_2_2\", \"quad_2_3\", \"quad_2_4\"])\n",
    "\n",
    "# goal\n",
    "env.set_goal(9.1, 5.0)"
   ]
  },
  {
   "cell_type": "code",
   "execution_count": 3,
   "metadata": {},
   "outputs": [],
   "source": [
    "# Assert reachability between vertices on different polygons\n",
    "# Since this is not the focus of the question, hard coding instead of inferring\n",
    "# this geometrically seems fine.\n",
    "\n",
    "# start\n",
    "env.assert_reachable(\"S\", [\"rec1\", \"rec2\", \"pent2\", \"pent3\"])\n",
    "\n",
    "# rectangle\n",
    "env.assert_reachable(\"rec1\", [\"pent2\", \"pent3\"])\n",
    "env.assert_reachable(\"rec2\", [\"pent1\", \"pent2\", \"tri1\", \"tri3\"])\n",
    "env.assert_reachable(\"rec3\", [\"pent1\", \"tri1\", \"tri2\", \"tri3\", \"quad1\", \"tri_2_1\", \"tri_2_2\"])\n",
    "env.assert_reachable(\"rec4\", [\"tri_2_1\", \"tri_2_2\", \"tri_2_3\", \"hex1\", \"hex2\", \"hex3\", \"rec_2_4\"])\n",
    "\n",
    "# pentagon\n",
    "env.assert_reachable(\"pent1\", [\"tri1\", \"tri2\"])\n",
    "env.assert_reachable(\"pent4\", [\"tri2\", \"quad2\", \"quad3\"])\n",
    "env.assert_reachable(\"pent5\", [\"tri1\", \"tri2\", \"quad2\"])\n",
    "\n",
    "# triangle\n",
    "env.assert_reachable(\"tri2\", [\"quad1\", \"quad2\", \"tri_2_1\"])\n",
    "env.assert_reachable(\"tri3\", [\"quad1\", \"quad2\", \"quad4\", \"tri_2_2\"])\n",
    "\n",
    "# quadrilateral\n",
    "env.assert_reachable(\"quad1\", [\"tri_2_1\", \"tri_2_2\", \"rec_2_1\"])\n",
    "env.assert_reachable(\"quad3\", [\"rec_2_2\", \"rec_2_3\", \"quad_2_3\"])\n",
    "env.assert_reachable(\"quad4\", [\"tri_2_2\", \"rec_2_1\", \"rec_2_2\"])\n",
    "\n",
    "# triangle 2\n",
    "env.assert_reachable(\"tri_2_1\", [\"rec_2_4\", \"hex1\", \"hex2\", \"hex3\", \"hex4\"])\n",
    "env.assert_reachable(\"tri_2_2\", [\"rec_2_1\", \"hex3\"])\n",
    "env.assert_reachable(\"tri_2_3\", [\"rec_2_1\", \"rec_2_4\", \"hex2\", \"hex3\", \"hex4\"])\n",
    "\n",
    "# rectangle 2\n",
    "env.assert_reachable(\"rec_2_1\", [\"hex3\", \"hex4\"])\n",
    "env.assert_reachable(\"rec_2_2\", \"quad_2_3\")\n",
    "env.assert_reachable(\"rec_2_3\", [\"quad_2_1\", \"quad_2_2\", \"quad_2_3\", \"hex4\", \"hex5\"])\n",
    "env.assert_reachable(\"rec_2_4\", [\"hex3\", \"hex4\", \"quad_2_1\", \"quad_2_2\"])\n",
    "\n",
    "# hexagon\n",
    "env.assert_reachable(\"hex4\", [\"quad_2_1\", \"quad_2_2\"])\n",
    "env.assert_reachable(\"hex5\", [\"quad_2_1\", \"quad_2_2\"])\n",
    "env.assert_reachable(\"hex6\", [\"quad_2_1\", \"G\"])\n",
    "\n",
    "# quadrilateral 2\n",
    "env.assert_reachable(\"quad_2_1\", \"G\")\n",
    "env.assert_reachable(\"quad_2_3\", \"G\")\n",
    "env.assert_reachable(\"quad_2_4\", \"G\")"
   ]
  },
  {
   "cell_type": "code",
   "execution_count": 4,
   "metadata": {},
   "outputs": [
    {
     "data": {
      "text/plain": [
       "{(0.5, -0.7): 'rec1',\n",
       " (0.5, 0.7): 'rec2',\n",
       " (0.3, 1.5999999999999999): 'pent2',\n",
       " (0.0, 3.0999999999999996): 'pent3'}"
      ]
     },
     "metadata": {},
     "output_type": "display_data"
    },
    {
     "data": {
      "text/plain": [
       "{(-0.5999999999999996, -4.6): 'hex6',\n",
       " (-0.40000000000000036, -3.2): 'quad_2_1',\n",
       " (-0.5, -0.0): 'quad_2_3',\n",
       " (-0.1999999999999993, -0.5): 'quad_2_4'}"
      ]
     },
     "metadata": {},
     "output_type": "display_data"
    }
   ],
   "source": [
    "display(env.vertices[\"S\"].reachable)\n",
    "display(env.vertices[\"G\"].reachable)"
   ]
  },
  {
   "cell_type": "code",
   "execution_count": 5,
   "metadata": {},
   "outputs": [
    {
     "data": {
      "image/png": "[encoded data removed]",
      "text/plain": [
       "<Figure size 432x288 with 1 Axes>"
      ]
     },
     "metadata": {
      "needs_background": "light"
     },
     "output_type": "display_data"
    }
   ],
   "source": [
    "env.draw()"
   ]
  },
  {
   "cell_type": "markdown",
   "metadata": {},
   "source": [
    "__c. Define the necessary functions to implement the search problem, including an `ACTIONS` function that takes a vertex as input and returns a set of vectors, each of which maps the current vertex to one of the vertices that can be reached in a straight line. (Do not forget the neighbors on the same polygon.) Use the straight-line distance for the heuristic function.__"
   ]
  },
  {
   "cell_type": "code",
   "execution_count": 6,
   "metadata": {},
   "outputs": [],
   "source": [
    "import math"
   ]
  },
  {
   "cell_type": "code",
   "execution_count": 36,
   "metadata": {},
   "outputs": [],
   "source": [
    "class Node(object):\n",
    "    def __init__(self, state, parent=None, action=None, path_cost=0):\n",
    "        self.state = state\n",
    "        self.parent = parent\n",
    "        self.action = action\n",
    "        self.path_cost = path_cost\n",
    "        \n",
    "class Problem(object):\n",
    "    def __init__(self, state_space, agent):\n",
    "        self.state_space = state_space\n",
    "        self.agent = agent\n",
    "        self.agent.initial_vertex = self.state_space.start\n",
    "    \n",
    "    def result(self, state, action):\n",
    "        self.agent.move(action)\n",
    "        return self.agent.location\n",
    "        \n",
    "    def step_cost(self, action):\n",
    "        return math.sqrt(action[0]**2 + action[1]**2)\n",
    "    \n",
    "    def actions(self, vertex):\n",
    "        return vertex.reachable.keys()\n",
    "    \n",
    "    def goal_test(self, vertex):\n",
    "        if vertex == self.state_space.goal:\n",
    "            return True\n",
    "        else:\n",
    "            return False\n",
    "\n",
    "def child_node(problem, parent, action):\n",
    "    return Node(state=problem.result(parent.state, action), \n",
    "                parent=parent, \n",
    "                action=action,\n",
    "                path_cost = parent.path_cost + problem.step_cost(action))\n",
    "\n",
    "def solution(node):\n",
    "    path = [node]\n",
    "    while node.parent is not None:\n",
    "        path.insert(0, node.parent)\n",
    "        node = node.parent\n",
    "\n",
    "class SearchAgent(object):\n",
    "    def __init__(self, initial_vertex=None):\n",
    "        self.location = initial_vertex\n",
    "        \n",
    "    def move(vector):\n",
    "        assert vector in self.location.reachable, \"Not a valid move.\"\n",
    "\n",
    "        self.location = self.location.reachable[vector]"
   ]
  },
  {
   "cell_type": "markdown",
   "metadata": {},
   "source": [
    "__d. Apply one or more of the algorithms in this chapter to solve a range of problems in the domain, and comment on their performance.__"
   ]
  },
  {
   "cell_type": "code",
   "execution_count": 37,
   "metadata": {},
   "outputs": [],
   "source": [
    "import copy"
   ]
  },
  {
   "cell_type": "code",
   "execution_count": 38,
   "metadata": {},
   "outputs": [],
   "source": [
    "def in_frontier(node, frontier):\n",
    "    for frontier_node in frontier:\n",
    "        if node.state == frontier_node.state:\n",
    "            return True\n",
    "    return False\n",
    "\n",
    "def breadth_first_search(problem):\n",
    "    node = Node(problem.agent.location)\n",
    "    \n",
    "    frontier = [node]\n",
    "    explored = set()\n",
    "    \n",
    "    while True:\n",
    "        if len(frontier) < 1:\n",
    "            return \"Failure.\"\n",
    "    \n",
    "        node = frontier.pop()\n",
    "        \n",
    "        explored.add(node.state)\n",
    "        \n",
    "        for action in problem.actions(node.state):\n",
    "            child = child_node(problem, node, action)\n",
    "            if child.state not in explored and not in_frontier(child, frontier):\n",
    "                if problem.goal_test(child.state):\n",
    "                    return solution(child)\n",
    "                \n",
    "                frontier.insert(0, child)"
   ]
  },
  {
   "cell_type": "code",
   "execution_count": 39,
   "metadata": {},
   "outputs": [],
   "source": [
    "agent = SearchAgent()"
   ]
  },
  {
   "cell_type": "code",
   "execution_count": 40,
   "metadata": {},
   "outputs": [
    {
     "ename": "AttributeError",
     "evalue": "'NoneType' object has no attribute 'reachable'",
     "output_type": "error",
     "traceback": [
      "\u001b[1;31m---------------------------------------------------------------------------\u001b[0m",
      "\u001b[1;31mAttributeError\u001b[0m                            Traceback (most recent call last)",
      "\u001b[1;32m<ipython-input-40-51f437a7dc48>\u001b[0m in \u001b[0;36m<module>\u001b[1;34m()\u001b[0m\n\u001b[0;32m      1\u001b[0m \u001b[0mproblem\u001b[0m \u001b[1;33m=\u001b[0m \u001b[0mProblem\u001b[0m\u001b[1;33m(\u001b[0m\u001b[0mstate_space\u001b[0m\u001b[1;33m=\u001b[0m\u001b[0menv\u001b[0m\u001b[1;33m,\u001b[0m \u001b[0magent\u001b[0m\u001b[1;33m=\u001b[0m\u001b[0magent\u001b[0m\u001b[1;33m)\u001b[0m\u001b[1;33m\u001b[0m\u001b[0m\n\u001b[1;32m----> 2\u001b[1;33m \u001b[0mpath\u001b[0m \u001b[1;33m=\u001b[0m \u001b[0mbreadth_first_search\u001b[0m\u001b[1;33m(\u001b[0m\u001b[0mproblem\u001b[0m\u001b[1;33m)\u001b[0m\u001b[1;33m\u001b[0m\u001b[0m\n\u001b[0m",
      "\u001b[1;32m<ipython-input-38-2a3d7a68d796>\u001b[0m in \u001b[0;36mbreadth_first_search\u001b[1;34m(problem)\u001b[0m\n\u001b[0;32m     19\u001b[0m         \u001b[0mexplored\u001b[0m\u001b[1;33m.\u001b[0m\u001b[0madd\u001b[0m\u001b[1;33m(\u001b[0m\u001b[0mnode\u001b[0m\u001b[1;33m.\u001b[0m\u001b[0mstate\u001b[0m\u001b[1;33m)\u001b[0m\u001b[1;33m\u001b[0m\u001b[0m\n\u001b[0;32m     20\u001b[0m \u001b[1;33m\u001b[0m\u001b[0m\n\u001b[1;32m---> 21\u001b[1;33m         \u001b[1;32mfor\u001b[0m \u001b[0maction\u001b[0m \u001b[1;32min\u001b[0m \u001b[0mproblem\u001b[0m\u001b[1;33m.\u001b[0m\u001b[0mactions\u001b[0m\u001b[1;33m(\u001b[0m\u001b[0mnode\u001b[0m\u001b[1;33m.\u001b[0m\u001b[0mstate\u001b[0m\u001b[1;33m)\u001b[0m\u001b[1;33m:\u001b[0m\u001b[1;33m\u001b[0m\u001b[0m\n\u001b[0m\u001b[0;32m     22\u001b[0m             \u001b[0mchild\u001b[0m \u001b[1;33m=\u001b[0m \u001b[0mchild_node\u001b[0m\u001b[1;33m(\u001b[0m\u001b[0mproblem\u001b[0m\u001b[1;33m,\u001b[0m \u001b[0mnode\u001b[0m\u001b[1;33m,\u001b[0m \u001b[0maction\u001b[0m\u001b[1;33m)\u001b[0m\u001b[1;33m\u001b[0m\u001b[0m\n\u001b[0;32m     23\u001b[0m             \u001b[1;32mif\u001b[0m \u001b[0mchild\u001b[0m\u001b[1;33m.\u001b[0m\u001b[0mstate\u001b[0m \u001b[1;32mnot\u001b[0m \u001b[1;32min\u001b[0m \u001b[0mexplored\u001b[0m \u001b[1;32mand\u001b[0m \u001b[1;32mnot\u001b[0m \u001b[0min_frontier\u001b[0m\u001b[1;33m(\u001b[0m\u001b[0mchild\u001b[0m\u001b[1;33m,\u001b[0m \u001b[0mfrontier\u001b[0m\u001b[1;33m)\u001b[0m\u001b[1;33m:\u001b[0m\u001b[1;33m\u001b[0m\u001b[0m\n",
      "\u001b[1;32m<ipython-input-36-fc6308aa7f53>\u001b[0m in \u001b[0;36mactions\u001b[1;34m(self, vertex)\u001b[0m\n\u001b[0;32m     20\u001b[0m \u001b[1;33m\u001b[0m\u001b[0m\n\u001b[0;32m     21\u001b[0m     \u001b[1;32mdef\u001b[0m \u001b[0mactions\u001b[0m\u001b[1;33m(\u001b[0m\u001b[0mself\u001b[0m\u001b[1;33m,\u001b[0m \u001b[0mvertex\u001b[0m\u001b[1;33m)\u001b[0m\u001b[1;33m:\u001b[0m\u001b[1;33m\u001b[0m\u001b[0m\n\u001b[1;32m---> 22\u001b[1;33m         \u001b[1;32mreturn\u001b[0m \u001b[0mvertex\u001b[0m\u001b[1;33m.\u001b[0m\u001b[0mreachable\u001b[0m\u001b[1;33m.\u001b[0m\u001b[0mkeys\u001b[0m\u001b[1;33m(\u001b[0m\u001b[1;33m)\u001b[0m\u001b[1;33m\u001b[0m\u001b[0m\n\u001b[0m\u001b[0;32m     23\u001b[0m \u001b[1;33m\u001b[0m\u001b[0m\n\u001b[0;32m     24\u001b[0m     \u001b[1;32mdef\u001b[0m \u001b[0mgoal_test\u001b[0m\u001b[1;33m(\u001b[0m\u001b[0mself\u001b[0m\u001b[1;33m,\u001b[0m \u001b[0mvertex\u001b[0m\u001b[1;33m)\u001b[0m\u001b[1;33m:\u001b[0m\u001b[1;33m\u001b[0m\u001b[0m\n",
      "\u001b[1;31mAttributeError\u001b[0m: 'NoneType' object has no attribute 'reachable'"
     ]
    }
   ],
   "source": [
    "problem = Problem(state_space=env, agent=agent)\n",
    "path = breadth_first_search(problem)"
   ]
  }
 ],
 "metadata": {
  "kernelspec": {
   "display_name": "Python 3",
   "language": "python",
   "name": "python3"
  },
  "language_info": {
   "codemirror_mode": {
    "name": "ipython",
    "version": 3
   },
   "file_extension": ".py",
   "mimetype": "text/x-python",
   "name": "python",
   "nbconvert_exporter": "python",
   "pygments_lexer": "ipython3",
   "version": "3.6.6"
  }
 },
 "nbformat": 4,
 "nbformat_minor": 2
}
