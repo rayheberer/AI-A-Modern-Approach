{
 "cells": [
  {
   "cell_type": "markdown",
   "metadata": {},
   "source": [
    "### 3.7\n",
    "\n",
    "__ Consider the problem of finding the shortest path between two points on a plane that has convex polygonal obstacles as shown in Figure 3.31. This is an idealization of the problem that a robot has to solve to navigate in a crowded environment.__"
   ]
  },
  {
   "cell_type": "markdown",
   "metadata": {},
   "source": [
    "![](https://raw.githubusercontent.com/rayheberer/AI-A-Modern-Approach/master/img/3/Figure-3-31.png)"
   ]
  },
  {
   "cell_type": "markdown",
   "metadata": {},
   "source": [
    "__a. Suppose the state space consists of all positions (x,y) in the plane. How many states are there? How many paths are there to the goal?__\n",
    "\n",
    "If *x* and *y* are continuous spacial variables, then there are infinite states, and infinite paths to the goal. \n",
    "\n",
    "If *x* and *y* are made to be discrete, then the number of states will be proportional to max(*x*)max(*y*), where the constant of proportionality is the number of allowable values within a distance of 1 multiplied by the fraction of the plane not taken up by the obstacles.\n",
    "\n",
    "The number of paths will scale roughly proportional to the factorial of the number of states, since in a plane with no obstacles every state would be reachable from every other state. In this case, if cycles are not permitted in paths, then if there are N states besides the goal states, then for the last step on the path, there are N possible states, for the second-to-last step, N-1 states, and so on."
   ]
  },
  {
   "cell_type": "markdown",
   "metadata": {},
   "source": [
    "__b. Explain briefly why the shortest path from one polygon vertex to any other in the scene must consist of straight-line segments joining some of the vertices of the polygons. Define a good state space now. How large is this state space?__\n",
    "\n",
    "The shortest path between one polygon vertex and another vertex on the same polygon is by definition a line, and the same goes for paths between vertices on separate polygons.\n",
    "\n",
    "If there is an obstacle between two vertices, then the shortest path will be from the first vertex, to the vertex of the obstacle, to the second vertex. For example, the path from __S__ to the lower vertex of the pentagon in Figure 3.31 first travels to the upper-left vertex of the intervening rectangle. If instead the path were to visit a point in the plane a above or to the left of the rectangle's vertex, then the four-sided polygon consisting of __S__, the goal, the point directly below the goal and to the right of __S__, and the point visited by the path will contain the polygon made similarly with the vertex of the rectangle as its fourth point. Therefore, the perimeter of the outer polygon will be greater, and since its bottom and right edges are identical to the inner one, this is because the upper-left edges are longer. Therefore, the shortest paths directly visit vertices of intervening obstacles.\n",
    "\n",
    "Taking this into account, a good state space consists of each vertex in the plane, plus the starting and goal states. In Figure 3.31, the size of the state space would be $N=35$. In general it would be $N=V + 2$, where $V$ is the number of vertices in the plane."
   ]
  },
  {
   "cell_type": "markdown",
   "metadata": {},
   "source": [
    "__c. Define the necessary functions to implement the search problem, including an `ACTIONS` function that takes a vertex as input and returns a set of vectors, each of which maps the current vertex to one of the vertices that can be reached in a straight line. (Do not forget the neighbors on the same polygon.) Use the straight-line distance for the heuristic function.__"
   ]
  }
 ],
 "metadata": {
  "kernelspec": {
   "display_name": "Python 3",
   "language": "python",
   "name": "python3"
  },
  "language_info": {
   "codemirror_mode": {
    "name": "ipython",
    "version": 3
   },
   "file_extension": ".py",
   "mimetype": "text/x-python",
   "name": "python",
   "nbconvert_exporter": "python",
   "pygments_lexer": "ipython3",
   "version": "3.6.5"
  }
 },
 "nbformat": 4,
 "nbformat_minor": 2
}
